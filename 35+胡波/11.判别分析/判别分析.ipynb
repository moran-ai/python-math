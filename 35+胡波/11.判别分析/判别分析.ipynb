{
 "cells": [
  {
   "cell_type": "code",
   "execution_count": 15,
   "metadata": {},
   "outputs": [
    {
     "name": "stdout",
     "output_type": "stream",
     "text": [
      "0.9946153846153846\n",
      "0.816668\n"
     ]
    }
   ],
   "source": [
    "'''按判别准则的不同有距离判别，贝叶斯判别，费希尔判别\n",
    "\n",
    "'''\n",
    "\n",
    "from sklearn import datasets\n",
    "from sklearn.model_selection import train_test_split\n",
    "from sklearn.preprocessing import StandardScaler\n",
    "from sklearn.neighbors import KNeighborsClassifier\n",
    "import pandas as pd\n",
    "\n",
    "# 获得数据集\n",
    "df=pd.read_csv('winequality.csv')\n",
    "dx=df.iloc[:,0:12]\n",
    "dy=df['class']\n",
    "\n",
    "# 测试集与训练集分离，测试集为20%的总数据\n",
    "X_train, X_test, y_train, y_test = train_test_split(dx, dy, test_size=0.2)\n",
    "\n",
    "# 对数据进行归一化处理\n",
    "standarScaler = StandardScaler()\n",
    "standarScaler.fit(X_train)\n",
    "\n",
    "X_train_std = standarScaler.transform(X_train)\n",
    "X_test_std = standarScaler.transform(X_test)\n",
    "\n",
    "import datetime\n",
    "start_time = datetime.datetime.now()\n",
    "\n",
    "from sklearn.discriminant_analysis import LinearDiscriminantAnalysis\n",
    "lda=LinearDiscriminantAnalysis()\n",
    "lda.fit(X_train_std,y_train)\n",
    "score = lda.score(X_test_std, y_test)\n",
    "end_time = datetime.datetime.now()\n",
    "print(score)\n",
    "spend_time = end_time-start_time\n",
    "print(spend_time.total_seconds())\n"
   ]
  },
  {
   "cell_type": "code",
   "execution_count": 16,
   "metadata": {},
   "outputs": [
    {
     "name": "stdout",
     "output_type": "stream",
     "text": [
      "0.9892307692307692\n",
      "0.381836\n"
     ]
    }
   ],
   "source": [
    "# 模型训练和测试\n",
    "start_time = datetime.datetime.now()#开始验证训练时间\n",
    "knn_clf = KNeighborsClassifier(n_neighbors=4)#训练模型\n",
    "knn_clf.fit(X_train_std,y_train)#输入训练集\n",
    "score = knn_clf.score(X_test_std, y_test)#对比测试集\n",
    "\n",
    "end_time = datetime.datetime.now()#关闭验证时间\n",
    "print(score)#输出对比结果\n",
    "spend_time = end_time-start_time\n",
    "print(spend_time.total_seconds())#输出训练时间\n"
   ]
  },
  {
   "cell_type": "code",
   "execution_count": null,
   "metadata": {
    "collapsed": true
   },
   "outputs": [],
   "source": []
  }
 ],
 "metadata": {
  "kernelspec": {
   "display_name": "Python 3",
   "language": "python",
   "name": "python3"
  },
  "language_info": {
   "codemirror_mode": {
    "name": "ipython",
    "version": 3
   },
   "file_extension": ".py",
   "mimetype": "text/x-python",
   "name": "python",
   "nbconvert_exporter": "python",
   "pygments_lexer": "ipython3",
   "version": "3.6.1"
  }
 },
 "nbformat": 4,
 "nbformat_minor": 2
}
