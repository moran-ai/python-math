{
 "cells": [
  {
   "cell_type": "markdown",
   "metadata": {},
   "source": [
    "### 1. 已知标准正态分布。求x=-1和x=2处的概率 求p(x<0.3）与p(-0.2<x<0.2)"
   ]
  },
  {
   "cell_type": "code",
   "execution_count": 31,
   "metadata": {},
   "outputs": [
    {
     "name": "stdout",
     "output_type": "stream",
     "text": [
      "Using matplotlib backend: Qt5Agg\n"
     ]
    },
    {
     "data": {
      "text/plain": [
       "<matplotlib.text.Text at 0x1b99e42b630>"
      ]
     },
     "execution_count": 31,
     "metadata": {},
     "output_type": "execute_result"
    }
   ],
   "source": [
    "import numpy as np\n",
    "import scipy.stats as stats\n",
    "import matplotlib.pyplot as plt\n",
    "import matplotlib.style as style\n",
    "import pandas as pd\n",
    "\n",
    "style.use('fivethirtyeight')\n",
    "plt.rcParams[\"figure.figsize\"] = (14, 7)\n",
    "plt.figure(dpi=100)\n",
    "\n",
    "%matplotlib\n",
    "x=np.linspace(-10, 10, 50)\n",
    "pdf=stats.norm.pdf(x)#标准正太分布密度函数\n",
    "cdf=stats.norm.cdf(x)\n",
    "\n",
    "plt.plot(x,pdf)\n",
    "plt.fill_between(x,pdf,alpha=0.15)#alpha为0的时候画出的线或点是完全透明的，为1时是完全不透明的。\n",
    "\n",
    "plt.plot(x,cdf)\n",
    "\n",
    "plt.text(x=-1, y=.7, s=\"pdf (normed)\", rotation=65, alpha=.75, weight=\"bold\", color=\"#008fd5\")#rotation，旋转角度\n",
    "plt.text(x=2, y=.5, s=\"cdf\", rotation=55, alpha=.75, weight=\"bold\", color=\"#fc4f30\")#weight=\"bold\"，粗体字"
   ]
  },
  {
   "cell_type": "markdown",
   "metadata": {},
   "source": [
    "### 2. 基于数据画出分布，先确定样本模型，并估计真实模型，并作出样本与真实模型之间的对比图"
   ]
  },
  {
   "cell_type": "code",
   "execution_count": 21,
   "metadata": {},
   "outputs": [
    {
     "name": "stdout",
     "output_type": "stream",
     "text": [
      "Using matplotlib backend: Qt5Agg\n"
     ]
    },
    {
     "data": {
      "text/plain": [
       "<matplotlib.text.Text at 0x1b99e1fa7b8>"
      ]
     },
     "execution_count": 21,
     "metadata": {},
     "output_type": "execute_result"
    }
   ],
   "source": [
    "import numpy as np\n",
    "import scipy.stats as stats\n",
    "import matplotlib.pyplot as plt\n",
    "import matplotlib.style as style\n",
    "import pandas as pd\n",
    "\n",
    "style.use('fivethirtyeight')\n",
    "plt.rcParams[\"figure.figsize\"] = (14, 7)\n",
    "plt.figure(dpi=100)\n",
    "\n",
    "%matplotlib\n",
    "x=np.linspace(-6, 6, 100)\n",
    "pdf=stats.norm.pdf(x)#标准正太分布密度函数\n",
    "cdf=stats.norm.cdf(x)\n",
    "\n",
    "plt.plot(x,pdf)\n",
    "plt.fill_between(x,pdf,alpha=0.15)#alpha为0的时候画出的线或点是完全透明的，为1时是完全不透明的。\n",
    "\n",
    "plt.plot(x,cdf)\n",
    "\n",
    "plt.text(x=-1.5, y=.7, s=\"pdf (normed)\", rotation=65, alpha=.75, weight=\"bold\", color=\"#008fd5\")#rotation，旋转角度\n",
    "plt.text(x=-.4, y=.5, s=\"cdf\", rotation=55, alpha=.75, weight=\"bold\", color=\"#fc4f30\")#weight=\"bold\"，粗体字"
   ]
  },
  {
   "cell_type": "code",
   "execution_count": 22,
   "metadata": {},
   "outputs": [
    {
     "data": {
      "text/plain": [
       "199"
      ]
     },
     "execution_count": 22,
     "metadata": {},
     "output_type": "execute_result"
    }
   ],
   "source": [
    "data = pd.read_csv('yangben.csv')\n",
    "len(data)"
   ]
  },
  {
   "cell_type": "code",
   "execution_count": 24,
   "metadata": {},
   "outputs": [
    {
     "data": {
      "text/plain": [
       "10.99342831      9.965931\n",
       "  9.7234714      9.955968\n",
       " 11.29537708     9.982945\n",
       " 13.04605971    10.125543\n",
       "  9.53169325    10.140839\n",
       "Unnamed: 5            NaN\n",
       "dtype: float64"
      ]
     },
     "execution_count": 24,
     "metadata": {},
     "output_type": "execute_result"
    }
   ],
   "source": [
    "mean = data.mean()\n",
    "mean"
   ]
  },
  {
   "cell_type": "code",
   "execution_count": 25,
   "metadata": {},
   "outputs": [
    {
     "data": {
      "text/plain": [
       "<bound method DataFrame.std of      10.99342831    9.7234714    11.29537708   13.04605971    9.53169325  \\\n",
       "0       9.531726     13.158426     11.534869      9.061051     11.085120   \n",
       "1       9.073165      9.068540     10.483925      6.173440      6.550164   \n",
       "2       8.875425      7.974338     10.628495      8.183952      7.175393   \n",
       "3      12.931298      9.548447     10.135056      7.150504      8.911235   \n",
       "4      10.221845      7.698013     10.751396      8.798723      9.416612   \n",
       "5       8.796587     13.704556      9.973006      7.884578     11.645090   \n",
       "6       7.558313     10.417727      6.080660      7.343628     10.393722   \n",
       "7      11.476933     10.342737      9.768703      9.397793      7.042956   \n",
       "8       8.560312      9.078722     12.114244     10.687237      6.473920   \n",
       "9      10.648168      9.229835      8.646156     11.223353     12.061999   \n",
       "10     11.862560      8.321565      9.381575     10.662527     11.951090   \n",
       "11      9.041652      9.628682      7.787330      7.607587     11.625052   \n",
       "12     12.712480      9.855980     12.007066     10.723272      8.709760   \n",
       "13     10.722791     13.076073      9.928348     13.129287      4.760510   \n",
       "14     11.643805     10.174094      9.401985     10.183522      6.024862   \n",
       "15      9.560656     10.714225     12.955788      8.963460      8.383013   \n",
       "16      8.996486     11.830804     10.657502      8.940480     11.026535   \n",
       "17     10.194155     11.937290      8.595894      9.344676      9.215784   \n",
       "18      7.072970     10.592241     10.522111     10.010227      9.530826   \n",
       "19      7.169259      9.158709      9.314571      8.395445      9.677429   \n",
       "20     10.808102     13.772372     10.349156     10.515101      9.851108   \n",
       "21      6.162458      9.946972     10.120460     14.926484      9.615278   \n",
       "22     10.603095      9.930576      7.662644     12.285646     11.503866   \n",
       "23     11.582064      8.181225     12.805589      7.196298     11.173714   \n",
       "24     14.380911      8.018927      8.867405     10.199303      8.993049   \n",
       "25      6.898673     10.137126      7.875393     10.947185      8.161152   \n",
       "26     13.099869      8.433493      9.355877     11.627034      7.538271   \n",
       "27     10.454920     12.614286      6.785034     10.369268     10.519766   \n",
       "28     11.563646      7.526099      7.359087     11.043883     10.593969   \n",
       "29     10.500986     10.692896      8.639951     10.464507     10.586145   \n",
       "..           ...           ...           ...           ...           ...   \n",
       "169     8.753719      8.889046      8.725226     12.378033     12.841009   \n",
       "170     8.858507      8.335289     10.942831      8.895554     11.265864   \n",
       "171    10.405846      6.968512     13.095010     13.591755      8.774423   \n",
       "172     9.224597     10.571731     10.668914     11.317089     14.020409   \n",
       "173     9.646106      8.403406      7.241362      8.538140      9.933746   \n",
       "174    13.589116      8.964777     10.447576      9.967154     12.376787   \n",
       "175    15.053865      8.938262      9.021121     12.088322     11.363783   \n",
       "176    13.693415     11.167856      9.281416     11.181310     12.217407   \n",
       "177    11.640964     11.014548     12.133349     12.338591     12.764318   \n",
       "178    11.297420      9.665764     10.293427     12.413018      8.366129   \n",
       "179    10.737347      9.213322     10.057490     12.556904     10.382198   \n",
       "180    10.092873      7.280288     11.492507     11.290968     14.326509   \n",
       "181     9.384444     10.438301     10.498767     13.154907      9.809409   \n",
       "182    10.558043     11.215793     10.373218      9.107133     10.388180   \n",
       "183    12.147263      7.946969     10.265939      8.599758     12.390093   \n",
       "184     6.953626      8.882156     10.754424     13.131048      9.868499   \n",
       "185     8.889601     13.762314      7.103972      5.602388     10.880029   \n",
       "186     8.995892      7.957534     11.416713     10.487601      8.871843   \n",
       "187     7.439391     11.744915     11.300402      9.801648     13.693274   \n",
       "188     7.859830      6.948950      8.616184      9.908828     10.486679   \n",
       "189     9.517528     10.704111      7.496921     12.887529      9.835698   \n",
       "190    12.234592     10.685451     10.913506     11.139535     10.895417   \n",
       "191    11.285446     12.658305     10.393042     11.418008      9.820529   \n",
       "192    12.880234      8.647215     13.601881      9.919684      7.138450   \n",
       "193    10.256209      8.637897     11.681287      8.694752      9.107633   \n",
       "194     6.220919      9.095387      5.152241      6.832194     11.520829   \n",
       "195    11.571600     10.850915      8.066048      9.904577      9.992795   \n",
       "196     7.683271     13.006797     11.754725      9.558072     10.053772   \n",
       "197    10.416766      5.916530      9.505645      8.636031      7.996760   \n",
       "198     9.437799     13.595373     11.281686      8.857642     11.145166   \n",
       "\n",
       "     Unnamed: 5  \n",
       "0           NaN  \n",
       "1           NaN  \n",
       "2           NaN  \n",
       "3           NaN  \n",
       "4           NaN  \n",
       "5           NaN  \n",
       "6           NaN  \n",
       "7           NaN  \n",
       "8           NaN  \n",
       "9           NaN  \n",
       "10          NaN  \n",
       "11          NaN  \n",
       "12          NaN  \n",
       "13          NaN  \n",
       "14          NaN  \n",
       "15          NaN  \n",
       "16          NaN  \n",
       "17          NaN  \n",
       "18          NaN  \n",
       "19          NaN  \n",
       "20          NaN  \n",
       "21          NaN  \n",
       "22          NaN  \n",
       "23          NaN  \n",
       "24          NaN  \n",
       "25          NaN  \n",
       "26          NaN  \n",
       "27          NaN  \n",
       "28          NaN  \n",
       "29          NaN  \n",
       "..          ...  \n",
       "169         NaN  \n",
       "170         NaN  \n",
       "171         NaN  \n",
       "172         NaN  \n",
       "173         NaN  \n",
       "174         NaN  \n",
       "175         NaN  \n",
       "176         NaN  \n",
       "177         NaN  \n",
       "178         NaN  \n",
       "179         NaN  \n",
       "180         NaN  \n",
       "181         NaN  \n",
       "182         NaN  \n",
       "183         NaN  \n",
       "184         NaN  \n",
       "185         NaN  \n",
       "186         NaN  \n",
       "187         NaN  \n",
       "188         NaN  \n",
       "189         NaN  \n",
       "190         NaN  \n",
       "191         NaN  \n",
       "192         NaN  \n",
       "193         NaN  \n",
       "194         NaN  \n",
       "195         NaN  \n",
       "196         NaN  \n",
       "197         NaN  \n",
       "198         NaN  \n",
       "\n",
       "[199 rows x 6 columns]>"
      ]
     },
     "execution_count": 25,
     "metadata": {},
     "output_type": "execute_result"
    }
   ],
   "source": [
    "std = data.std\n",
    "std"
   ]
  },
  {
   "cell_type": "code",
   "execution_count": 26,
   "metadata": {
    "collapsed": true
   },
   "outputs": [],
   "source": [
    "def normfun(x,mu, sigma):\n",
    "    pdf = np.exp(-((x - mu)**2) / (2* sigma**2)) / (sigma * np.sqrt(2*np.pi))\n",
    "    return pdf"
   ]
  },
  {
   "cell_type": "code",
   "execution_count": 28,
   "metadata": {},
   "outputs": [
    {
     "ename": "ValueError",
     "evalue": "operands could not be broadcast together with shapes (90,) (6,) ",
     "output_type": "error",
     "traceback": [
      "\u001b[1;31m---------------------------------------------------------------------------\u001b[0m",
      "\u001b[1;31mValueError\u001b[0m                                Traceback (most recent call last)",
      "\u001b[1;32m<ipython-input-28-308fe8eed7f4>\u001b[0m in \u001b[0;36m<module>\u001b[1;34m()\u001b[0m\n\u001b[0;32m      2\u001b[0m \u001b[1;33m\u001b[0m\u001b[0m\n\u001b[0;32m      3\u001b[0m \u001b[1;31m# x数对应的概率密度\u001b[0m\u001b[1;33m\u001b[0m\u001b[1;33m\u001b[0m\u001b[0m\n\u001b[1;32m----> 4\u001b[1;33m \u001b[0my\u001b[0m \u001b[1;33m=\u001b[0m \u001b[0mnormfun\u001b[0m\u001b[1;33m(\u001b[0m\u001b[0mx\u001b[0m\u001b[1;33m,\u001b[0m \u001b[0mmean\u001b[0m\u001b[1;33m,\u001b[0m \u001b[0mstd\u001b[0m\u001b[1;33m)\u001b[0m\u001b[1;33m\u001b[0m\u001b[0m\n\u001b[0m\u001b[0;32m      5\u001b[0m \u001b[1;33m\u001b[0m\u001b[0m\n\u001b[0;32m      6\u001b[0m \u001b[1;31m# 参数,颜色，线宽\u001b[0m\u001b[1;33m\u001b[0m\u001b[1;33m\u001b[0m\u001b[0m\n",
      "\u001b[1;32m<ipython-input-26-2381b228ecf7>\u001b[0m in \u001b[0;36mnormfun\u001b[1;34m(x, mu, sigma)\u001b[0m\n\u001b[0;32m      1\u001b[0m \u001b[1;32mdef\u001b[0m \u001b[0mnormfun\u001b[0m\u001b[1;33m(\u001b[0m\u001b[0mx\u001b[0m\u001b[1;33m,\u001b[0m\u001b[0mmu\u001b[0m\u001b[1;33m,\u001b[0m \u001b[0msigma\u001b[0m\u001b[1;33m)\u001b[0m\u001b[1;33m:\u001b[0m\u001b[1;33m\u001b[0m\u001b[0m\n\u001b[1;32m----> 2\u001b[1;33m     \u001b[0mpdf\u001b[0m \u001b[1;33m=\u001b[0m \u001b[0mnp\u001b[0m\u001b[1;33m.\u001b[0m\u001b[0mexp\u001b[0m\u001b[1;33m(\u001b[0m\u001b[1;33m-\u001b[0m\u001b[1;33m(\u001b[0m\u001b[1;33m(\u001b[0m\u001b[0mx\u001b[0m \u001b[1;33m-\u001b[0m \u001b[0mmu\u001b[0m\u001b[1;33m)\u001b[0m\u001b[1;33m**\u001b[0m\u001b[1;36m2\u001b[0m\u001b[1;33m)\u001b[0m \u001b[1;33m/\u001b[0m \u001b[1;33m(\u001b[0m\u001b[1;36m2\u001b[0m\u001b[1;33m*\u001b[0m \u001b[0msigma\u001b[0m\u001b[1;33m**\u001b[0m\u001b[1;36m2\u001b[0m\u001b[1;33m)\u001b[0m\u001b[1;33m)\u001b[0m \u001b[1;33m/\u001b[0m \u001b[1;33m(\u001b[0m\u001b[0msigma\u001b[0m \u001b[1;33m*\u001b[0m \u001b[0mnp\u001b[0m\u001b[1;33m.\u001b[0m\u001b[0msqrt\u001b[0m\u001b[1;33m(\u001b[0m\u001b[1;36m2\u001b[0m\u001b[1;33m*\u001b[0m\u001b[0mnp\u001b[0m\u001b[1;33m.\u001b[0m\u001b[0mpi\u001b[0m\u001b[1;33m)\u001b[0m\u001b[1;33m)\u001b[0m\u001b[1;33m\u001b[0m\u001b[0m\n\u001b[0m\u001b[0;32m      3\u001b[0m     \u001b[1;32mreturn\u001b[0m \u001b[0mpdf\u001b[0m\u001b[1;33m\u001b[0m\u001b[0m\n",
      "\u001b[1;32mF:\\Anaconda\\lib\\site-packages\\pandas\\core\\ops.py\u001b[0m in \u001b[0;36mwrapper\u001b[1;34m(left, right, name, na_op)\u001b[0m\n\u001b[0;32m    719\u001b[0m                 \u001b[0mlvalues\u001b[0m \u001b[1;33m=\u001b[0m \u001b[0mlvalues\u001b[0m\u001b[1;33m.\u001b[0m\u001b[0mvalues\u001b[0m\u001b[1;33m\u001b[0m\u001b[0m\n\u001b[0;32m    720\u001b[0m \u001b[1;33m\u001b[0m\u001b[0m\n\u001b[1;32m--> 721\u001b[1;33m         \u001b[0mresult\u001b[0m \u001b[1;33m=\u001b[0m \u001b[0mwrap_results\u001b[0m\u001b[1;33m(\u001b[0m\u001b[0msafe_na_op\u001b[0m\u001b[1;33m(\u001b[0m\u001b[0mlvalues\u001b[0m\u001b[1;33m,\u001b[0m \u001b[0mrvalues\u001b[0m\u001b[1;33m)\u001b[0m\u001b[1;33m)\u001b[0m\u001b[1;33m\u001b[0m\u001b[0m\n\u001b[0m\u001b[0;32m    722\u001b[0m         return construct_result(\n\u001b[0;32m    723\u001b[0m             \u001b[0mleft\u001b[0m\u001b[1;33m,\u001b[0m\u001b[1;33m\u001b[0m\u001b[0m\n",
      "\u001b[1;32mF:\\Anaconda\\lib\\site-packages\\pandas\\core\\ops.py\u001b[0m in \u001b[0;36msafe_na_op\u001b[1;34m(lvalues, rvalues)\u001b[0m\n\u001b[0;32m    680\u001b[0m         \u001b[1;32mtry\u001b[0m\u001b[1;33m:\u001b[0m\u001b[1;33m\u001b[0m\u001b[0m\n\u001b[0;32m    681\u001b[0m             \u001b[1;32mwith\u001b[0m \u001b[0mnp\u001b[0m\u001b[1;33m.\u001b[0m\u001b[0merrstate\u001b[0m\u001b[1;33m(\u001b[0m\u001b[0mall\u001b[0m\u001b[1;33m=\u001b[0m\u001b[1;34m'ignore'\u001b[0m\u001b[1;33m)\u001b[0m\u001b[1;33m:\u001b[0m\u001b[1;33m\u001b[0m\u001b[0m\n\u001b[1;32m--> 682\u001b[1;33m                 \u001b[1;32mreturn\u001b[0m \u001b[0mna_op\u001b[0m\u001b[1;33m(\u001b[0m\u001b[0mlvalues\u001b[0m\u001b[1;33m,\u001b[0m \u001b[0mrvalues\u001b[0m\u001b[1;33m)\u001b[0m\u001b[1;33m\u001b[0m\u001b[0m\n\u001b[0m\u001b[0;32m    683\u001b[0m         \u001b[1;32mexcept\u001b[0m \u001b[0mException\u001b[0m\u001b[1;33m:\u001b[0m\u001b[1;33m\u001b[0m\u001b[0m\n\u001b[0;32m    684\u001b[0m             \u001b[1;32mif\u001b[0m \u001b[0misinstance\u001b[0m\u001b[1;33m(\u001b[0m\u001b[0mrvalues\u001b[0m\u001b[1;33m,\u001b[0m \u001b[0mABCSeries\u001b[0m\u001b[1;33m)\u001b[0m\u001b[1;33m:\u001b[0m\u001b[1;33m\u001b[0m\u001b[0m\n",
      "\u001b[1;32mF:\\Anaconda\\lib\\site-packages\\pandas\\core\\ops.py\u001b[0m in \u001b[0;36mna_op\u001b[1;34m(x, y)\u001b[0m\n\u001b[0;32m    656\u001b[0m         \u001b[1;32mtry\u001b[0m\u001b[1;33m:\u001b[0m\u001b[1;33m\u001b[0m\u001b[0m\n\u001b[0;32m    657\u001b[0m             result = expressions.evaluate(op, str_rep, x, y,\n\u001b[1;32m--> 658\u001b[1;33m                                           raise_on_error=True, **eval_kwargs)\n\u001b[0m\u001b[0;32m    659\u001b[0m         \u001b[1;32mexcept\u001b[0m \u001b[0mTypeError\u001b[0m\u001b[1;33m:\u001b[0m\u001b[1;33m\u001b[0m\u001b[0m\n\u001b[0;32m    660\u001b[0m             \u001b[1;32mif\u001b[0m \u001b[0misinstance\u001b[0m\u001b[1;33m(\u001b[0m\u001b[0my\u001b[0m\u001b[1;33m,\u001b[0m \u001b[1;33m(\u001b[0m\u001b[0mnp\u001b[0m\u001b[1;33m.\u001b[0m\u001b[0mndarray\u001b[0m\u001b[1;33m,\u001b[0m \u001b[0mABCSeries\u001b[0m\u001b[1;33m,\u001b[0m \u001b[0mpd\u001b[0m\u001b[1;33m.\u001b[0m\u001b[0mIndex\u001b[0m\u001b[1;33m)\u001b[0m\u001b[1;33m)\u001b[0m\u001b[1;33m:\u001b[0m\u001b[1;33m\u001b[0m\u001b[0m\n",
      "\u001b[1;32mF:\\Anaconda\\lib\\site-packages\\pandas\\core\\computation\\expressions.py\u001b[0m in \u001b[0;36mevaluate\u001b[1;34m(op, op_str, a, b, raise_on_error, use_numexpr, **eval_kwargs)\u001b[0m\n\u001b[0;32m    209\u001b[0m     \u001b[1;32mif\u001b[0m \u001b[0muse_numexpr\u001b[0m\u001b[1;33m:\u001b[0m\u001b[1;33m\u001b[0m\u001b[0m\n\u001b[0;32m    210\u001b[0m         return _evaluate(op, op_str, a, b, raise_on_error=raise_on_error,\n\u001b[1;32m--> 211\u001b[1;33m                          **eval_kwargs)\n\u001b[0m\u001b[0;32m    212\u001b[0m     \u001b[1;32mreturn\u001b[0m \u001b[0m_evaluate_standard\u001b[0m\u001b[1;33m(\u001b[0m\u001b[0mop\u001b[0m\u001b[1;33m,\u001b[0m \u001b[0mop_str\u001b[0m\u001b[1;33m,\u001b[0m \u001b[0ma\u001b[0m\u001b[1;33m,\u001b[0m \u001b[0mb\u001b[0m\u001b[1;33m,\u001b[0m \u001b[0mraise_on_error\u001b[0m\u001b[1;33m=\u001b[0m\u001b[0mraise_on_error\u001b[0m\u001b[1;33m)\u001b[0m\u001b[1;33m\u001b[0m\u001b[0m\n\u001b[0;32m    213\u001b[0m \u001b[1;33m\u001b[0m\u001b[0m\n",
      "\u001b[1;32mF:\\Anaconda\\lib\\site-packages\\pandas\\core\\computation\\expressions.py\u001b[0m in \u001b[0;36m_evaluate_numexpr\u001b[1;34m(op, op_str, a, b, raise_on_error, truediv, reversed, **eval_kwargs)\u001b[0m\n\u001b[0;32m    120\u001b[0m \u001b[1;33m\u001b[0m\u001b[0m\n\u001b[0;32m    121\u001b[0m     \u001b[1;32mif\u001b[0m \u001b[0mresult\u001b[0m \u001b[1;32mis\u001b[0m \u001b[1;32mNone\u001b[0m\u001b[1;33m:\u001b[0m\u001b[1;33m\u001b[0m\u001b[0m\n\u001b[1;32m--> 122\u001b[1;33m         \u001b[0mresult\u001b[0m \u001b[1;33m=\u001b[0m \u001b[0m_evaluate_standard\u001b[0m\u001b[1;33m(\u001b[0m\u001b[0mop\u001b[0m\u001b[1;33m,\u001b[0m \u001b[0mop_str\u001b[0m\u001b[1;33m,\u001b[0m \u001b[0ma\u001b[0m\u001b[1;33m,\u001b[0m \u001b[0mb\u001b[0m\u001b[1;33m,\u001b[0m \u001b[0mraise_on_error\u001b[0m\u001b[1;33m)\u001b[0m\u001b[1;33m\u001b[0m\u001b[0m\n\u001b[0m\u001b[0;32m    123\u001b[0m \u001b[1;33m\u001b[0m\u001b[0m\n\u001b[0;32m    124\u001b[0m     \u001b[1;32mreturn\u001b[0m \u001b[0mresult\u001b[0m\u001b[1;33m\u001b[0m\u001b[0m\n",
      "\u001b[1;32mF:\\Anaconda\\lib\\site-packages\\pandas\\core\\computation\\expressions.py\u001b[0m in \u001b[0;36m_evaluate_standard\u001b[1;34m(op, op_str, a, b, raise_on_error, **eval_kwargs)\u001b[0m\n\u001b[0;32m     62\u001b[0m         \u001b[0m_store_test_result\u001b[0m\u001b[1;33m(\u001b[0m\u001b[1;32mFalse\u001b[0m\u001b[1;33m)\u001b[0m\u001b[1;33m\u001b[0m\u001b[0m\n\u001b[0;32m     63\u001b[0m     \u001b[1;32mwith\u001b[0m \u001b[0mnp\u001b[0m\u001b[1;33m.\u001b[0m\u001b[0merrstate\u001b[0m\u001b[1;33m(\u001b[0m\u001b[0mall\u001b[0m\u001b[1;33m=\u001b[0m\u001b[1;34m'ignore'\u001b[0m\u001b[1;33m)\u001b[0m\u001b[1;33m:\u001b[0m\u001b[1;33m\u001b[0m\u001b[0m\n\u001b[1;32m---> 64\u001b[1;33m         \u001b[1;32mreturn\u001b[0m \u001b[0mop\u001b[0m\u001b[1;33m(\u001b[0m\u001b[0ma\u001b[0m\u001b[1;33m,\u001b[0m \u001b[0mb\u001b[0m\u001b[1;33m)\u001b[0m\u001b[1;33m\u001b[0m\u001b[0m\n\u001b[0m\u001b[0;32m     65\u001b[0m \u001b[1;33m\u001b[0m\u001b[0m\n\u001b[0;32m     66\u001b[0m \u001b[1;33m\u001b[0m\u001b[0m\n",
      "\u001b[1;32mF:\\Anaconda\\lib\\site-packages\\pandas\\core\\ops.py\u001b[0m in \u001b[0;36m<lambda>\u001b[1;34m(x, y)\u001b[0m\n\u001b[0;32m     93\u001b[0m         rmul=arith_method(operator.mul, names('rmul'), op('*'),\n\u001b[0;32m     94\u001b[0m                           default_axis=default_axis, reversed=True),\n\u001b[1;32m---> 95\u001b[1;33m         rsub=arith_method(lambda x, y: y - x, names('rsub'), op('-'),\n\u001b[0m\u001b[0;32m     96\u001b[0m                           default_axis=default_axis, reversed=True),\n\u001b[0;32m     97\u001b[0m         rtruediv=arith_method(lambda x, y: operator.truediv(y, x),\n",
      "\u001b[1;31mValueError\u001b[0m: operands could not be broadcast together with shapes (90,) (6,) "
     ]
    }
   ],
   "source": [
    "x = np.arange(60, 150,1)\n",
    "\n",
    "# x数对应的概率密度\n",
    "y = normfun(x, mean, std)\n",
    "\n",
    "# 参数,颜色，线宽\n",
    "plt.plot(x,y, color='g',linewidth = 3)\n",
    "\n",
    "#数据，数组，颜色，颜色深浅，组宽，显示频率\n",
    "plt.hist(data, bins =7, color = 'r',alpha=0.5,rwidth= 0.9, normed=True)\n",
    "\n",
    "plt.title('distribution')\n",
    "plt.xlabel(' score')\n",
    "plt.ylabel('Probability')\n",
    "plt.show()"
   ]
  },
  {
   "cell_type": "code",
   "execution_count": null,
   "metadata": {
    "collapsed": true
   },
   "outputs": [],
   "source": []
  }
 ],
 "metadata": {
  "kernelspec": {
   "display_name": "Python 3",
   "language": "python",
   "name": "python3"
  },
  "language_info": {
   "codemirror_mode": {
    "name": "ipython",
    "version": 3
   },
   "file_extension": ".py",
   "mimetype": "text/x-python",
   "name": "python",
   "nbconvert_exporter": "python",
   "pygments_lexer": "ipython3",
   "version": "3.6.1"
  }
 },
 "nbformat": 4,
 "nbformat_minor": 2
}
