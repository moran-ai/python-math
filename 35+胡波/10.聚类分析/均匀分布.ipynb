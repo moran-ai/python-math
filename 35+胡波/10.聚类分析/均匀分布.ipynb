{
 "cells": [
  {
   "cell_type": "markdown",
   "metadata": {},
   "source": [
    "### 花店每天销售的花束数量是均匀分布的，最多为40，最少为10。计算日销售量在15到30之间的概率"
   ]
  },
  {
   "cell_type": "code",
   "execution_count": 10,
   "metadata": {},
   "outputs": [
    {
     "name": "stdout",
     "output_type": "stream",
     "text": [
      "Using matplotlib backend: Qt5Agg\n"
     ]
    },
    {
     "data": {
      "text/plain": [
       "<matplotlib.text.Text at 0x1aa0ae8ae80>"
      ]
     },
     "execution_count": 10,
     "metadata": {},
     "output_type": "execute_result"
    }
   ],
   "source": [
    "%matplotlib\n",
    "import numpy as np\n",
    "import scipy.stats as stats\n",
    "import matplotlib.pyplot as plt\n",
    "import matplotlib.style as style\n",
    "from IPython.core.display import HTML\n",
    "\n",
    "style.use('fivethirtyeight')\n",
    "plt.rcParams['figure.figsize']=(14,7)\n",
    "plt.figure(dpi=100)\n",
    "\n",
    "#PDF \n",
    "plt.plot(np.linspace(10,40,100),stats.uniform.pdf(np.linspace(10,40,100)))\n",
    "plt.fill_between(np.linspace(10,40,100),stats.uniform.pdf(np.linspace(10,40,100)),alpha=0.15)\n",
    "\n",
    "#CDF\n",
    "plt.plot(np.linspace(10,40,100),stats.uniform.cdf(np.linspace(10,40,100)))\n",
    "\n",
    "#LEGEND 图例\n",
    "plt.text(x=15,y=0.7,s=\"pdf(uniform)\",rotation=65,alpha=0.75,weight=\"bold\",color=\"#008fd5\")\n",
    "plt.text(x=30,y=0.5,s=\"cdf\",rotation=55,alpha=0.75,weight=\"bold\",color=\"#fc4f30\")"
   ]
  },
  {
   "cell_type": "code",
   "execution_count": 9,
   "metadata": {},
   "outputs": [
    {
     "data": {
      "text/plain": [
       "24.5"
      ]
     },
     "execution_count": 9,
     "metadata": {},
     "output_type": "execute_result"
    }
   ],
   "source": [
    "import numpy as np\n",
    "x = np.arange(10,40)\n",
    "np.mean(x)"
   ]
  },
  {
   "cell_type": "code",
   "execution_count": 11,
   "metadata": {},
   "outputs": [
    {
     "data": {
      "text/plain": [
       "[<matplotlib.lines.Line2D at 0x1aa0b727e48>]"
      ]
     },
     "execution_count": 11,
     "metadata": {},
     "output_type": "execute_result"
    },
    {
     "data": {
      "image/png": "[encoded data removed]",
      "text/plain": [
       "<matplotlib.figure.Figure at 0x1aa08d9aac8>"
      ]
     },
     "metadata": {},
     "output_type": "display_data"
    }
   ],
   "source": [
    "import numpy as np\n",
    "import scipy.stats as stats\n",
    "import matplotlib.pyplot as plt\n",
    "import matplotlib.style as style\n",
    "\n",
    "%matplotlib inline\n",
    "x = np.linspace(0,60,100)\n",
    "pdf = stats.uniform.pdf(x,15,30)\n",
    "cdf = stats.uniform.cdf(x,10,30)\n",
    "plt.plot(pdf,cdf)"
   ]
  },
  {
   "cell_type": "code",
   "execution_count": null,
   "metadata": {
    "collapsed": true
   },
   "outputs": [],
   "source": []
  }
 ],
 "metadata": {
  "kernelspec": {
   "display_name": "Python 3",
   "language": "python",
   "name": "python3"
  },
  "language_info": {
   "codemirror_mode": {
    "name": "ipython",
    "version": 3
   },
   "file_extension": ".py",
   "mimetype": "text/x-python",
   "name": "python",
   "nbconvert_exporter": "python",
   "pygments_lexer": "ipython3",
   "version": "3.6.1"
  }
 },
 "nbformat": 4,
 "nbformat_minor": 2
}
