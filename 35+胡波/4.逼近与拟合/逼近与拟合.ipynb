{
 "cells": [
  {
   "cell_type": "markdown",
   "metadata": {},
   "source": [
    "# from scipy.optimize import leastsq\n",
    "# leastsq(fun,x[],argument) # 最小二乘功能函数"
   ]
  },
  {
   "cell_type": "code",
   "execution_count": 1,
   "metadata": {},
   "outputs": [
    {
     "name": "stdout",
     "output_type": "stream",
     "text": [
      "Using matplotlib backend: Qt5Agg\n"
     ]
    }
   ],
   "source": [
    "%matplotlib\n",
    "from scipy.optimize import leastsq\n",
    "import numpy as np\n",
    "import pylab as pl"
   ]
  },
  {
   "cell_type": "code",
   "execution_count": 2,
   "metadata": {},
   "outputs": [],
   "source": [
    "x = np.array([8,2,6,8,4,3,4,8])\n",
    "y = np.array([7,3,5,7,8,2,6,7])\n",
    "pl.plot(x,y,'ro')\n",
    "pl.show()"
   ]
  },
  {
   "cell_type": "markdown",
   "metadata": {},
   "source": [
    "# 直线模型"
   ]
  },
  {
   "cell_type": "code",
   "execution_count": 8,
   "metadata": {},
   "outputs": [
    {
     "name": "stdout",
     "output_type": "stream",
     "text": [
      "(array([0.5761194 , 2.52835821]), 1)\n"
     ]
    }
   ],
   "source": [
    "def func(p):\n",
    "    a,b = p   # 拟合参数\n",
    "    return y-(a*x+b)   # 误差函数\n",
    "xishu = leastsq(func,[0,0])  # 对误差函数进行最小二乘拟合\n",
    "print(xishu)"
   ]
  },
  {
   "cell_type": "code",
   "execution_count": 11,
   "metadata": {
    "collapsed": true
   },
   "outputs": [],
   "source": [
    "a,b=xishu[0]\n",
    "x1 = np.linspace(0,12,120)\n",
    "y1 = a*x1+b\n",
    "pl.plot(x1,y1)\n",
    "pl.show()"
   ]
  },
  {
   "cell_type": "code",
   "execution_count": 17,
   "metadata": {},
   "outputs": [
    {
     "name": "stdout",
     "output_type": "stream",
     "text": [
      "Using matplotlib backend: Qt5Agg\n",
      "(array([-0.16865749,  2.37899247, -1.40664762]), 1)\n"
     ]
    },
    {
     "data": {
      "text/plain": [
       "[<matplotlib.lines.Line2D at 0x21a0e2d4f28>]"
      ]
     },
     "execution_count": 17,
     "metadata": {},
     "output_type": "execute_result"
    }
   ],
   "source": [
    "%matplotlib\n",
    "from scipy.optimize import leastsq\n",
    "import numpy as np\n",
    "import pylab as pl\n",
    "x = np.array([8,2,6,8,4,3,4,8])\n",
    "y = np.array([7,3,5,7,8,2,6,7])\n",
    "pl.plot(x,y,'ro')\n",
    "# pl.show()\n",
    "\n",
    "def func(p):\n",
    "    a,b,c = p   # 拟合参数\n",
    "    return y-(a*x**2+b*x+c)   # 误差函数\n",
    "xishu = leastsq(func,[0,0,0])  # 对误差函数进行最小二乘拟合\n",
    "print(xishu)\n",
    "\n",
    "a,b,c=xishu[0]\n",
    "x1 = np.linspace(0,12,120)\n",
    "y1 = a*x1**2+b*x1+c\n",
    "pl.plot(x1,y1)\n",
    "# pl.show()"
   ]
  },
  {
   "cell_type": "code",
   "execution_count": 18,
   "metadata": {},
   "outputs": [
    {
     "data": {
      "text/html": [
       "<div>\n",
       "<style>\n",
       "    .dataframe thead tr:only-child th {\n",
       "        text-align: right;\n",
       "    }\n",
       "\n",
       "    .dataframe thead th {\n",
       "        text-align: left;\n",
       "    }\n",
       "\n",
       "    .dataframe tbody tr th {\n",
       "        vertical-align: top;\n",
       "    }\n",
       "</style>\n",
       "<table border=\"1\" class=\"dataframe\">\n",
       "  <thead>\n",
       "    <tr style=\"text-align: right;\">\n",
       "      <th></th>\n",
       "      <th>序号</th>\n",
       "      <th>y</th>\n",
       "      <th>x</th>\n",
       "      <th>t</th>\n",
       "    </tr>\n",
       "  </thead>\n",
       "  <tbody>\n",
       "    <tr>\n",
       "      <th>0</th>\n",
       "      <td>1</td>\n",
       "      <td>450.0</td>\n",
       "      <td>1027.2</td>\n",
       "      <td>8</td>\n",
       "    </tr>\n",
       "    <tr>\n",
       "      <th>1</th>\n",
       "      <td>2</td>\n",
       "      <td>507.7</td>\n",
       "      <td>1045.2</td>\n",
       "      <td>9</td>\n",
       "    </tr>\n",
       "    <tr>\n",
       "      <th>2</th>\n",
       "      <td>3</td>\n",
       "      <td>613.9</td>\n",
       "      <td>1225.8</td>\n",
       "      <td>12</td>\n",
       "    </tr>\n",
       "    <tr>\n",
       "      <th>3</th>\n",
       "      <td>4</td>\n",
       "      <td>563.4</td>\n",
       "      <td>1312.2</td>\n",
       "      <td>9</td>\n",
       "    </tr>\n",
       "    <tr>\n",
       "      <th>4</th>\n",
       "      <td>5</td>\n",
       "      <td>501.5</td>\n",
       "      <td>1316.4</td>\n",
       "      <td>7</td>\n",
       "    </tr>\n",
       "    <tr>\n",
       "      <th>5</th>\n",
       "      <td>6</td>\n",
       "      <td>781.5</td>\n",
       "      <td>1442.4</td>\n",
       "      <td>15</td>\n",
       "    </tr>\n",
       "    <tr>\n",
       "      <th>6</th>\n",
       "      <td>7</td>\n",
       "      <td>541.8</td>\n",
       "      <td>1641.0</td>\n",
       "      <td>9</td>\n",
       "    </tr>\n",
       "    <tr>\n",
       "      <th>7</th>\n",
       "      <td>8</td>\n",
       "      <td>611.1</td>\n",
       "      <td>1768.8</td>\n",
       "      <td>10</td>\n",
       "    </tr>\n",
       "    <tr>\n",
       "      <th>8</th>\n",
       "      <td>9</td>\n",
       "      <td>1222.1</td>\n",
       "      <td>1981.2</td>\n",
       "      <td>18</td>\n",
       "    </tr>\n",
       "    <tr>\n",
       "      <th>9</th>\n",
       "      <td>10</td>\n",
       "      <td>793.2</td>\n",
       "      <td>1998.6</td>\n",
       "      <td>14</td>\n",
       "    </tr>\n",
       "    <tr>\n",
       "      <th>10</th>\n",
       "      <td>11</td>\n",
       "      <td>660.8</td>\n",
       "      <td>2196.0</td>\n",
       "      <td>10</td>\n",
       "    </tr>\n",
       "    <tr>\n",
       "      <th>11</th>\n",
       "      <td>12</td>\n",
       "      <td>792.7</td>\n",
       "      <td>2105.4</td>\n",
       "      <td>12</td>\n",
       "    </tr>\n",
       "    <tr>\n",
       "      <th>12</th>\n",
       "      <td>13</td>\n",
       "      <td>580.8</td>\n",
       "      <td>2147.4</td>\n",
       "      <td>8</td>\n",
       "    </tr>\n",
       "    <tr>\n",
       "      <th>13</th>\n",
       "      <td>14</td>\n",
       "      <td>612.7</td>\n",
       "      <td>2154.0</td>\n",
       "      <td>10</td>\n",
       "    </tr>\n",
       "    <tr>\n",
       "      <th>14</th>\n",
       "      <td>15</td>\n",
       "      <td>890.8</td>\n",
       "      <td>2231.4</td>\n",
       "      <td>14</td>\n",
       "    </tr>\n",
       "    <tr>\n",
       "      <th>15</th>\n",
       "      <td>16</td>\n",
       "      <td>1121.0</td>\n",
       "      <td>2611.8</td>\n",
       "      <td>18</td>\n",
       "    </tr>\n",
       "    <tr>\n",
       "      <th>16</th>\n",
       "      <td>17</td>\n",
       "      <td>1094.2</td>\n",
       "      <td>3143.4</td>\n",
       "      <td>16</td>\n",
       "    </tr>\n",
       "    <tr>\n",
       "      <th>17</th>\n",
       "      <td>18</td>\n",
       "      <td>1253.0</td>\n",
       "      <td>3624.6</td>\n",
       "      <td>20</td>\n",
       "    </tr>\n",
       "  </tbody>\n",
       "</table>\n",
       "</div>"
      ],
      "text/plain": [
       "    序号       y       x   t\n",
       "0    1   450.0  1027.2   8\n",
       "1    2   507.7  1045.2   9\n",
       "2    3   613.9  1225.8  12\n",
       "3    4   563.4  1312.2   9\n",
       "4    5   501.5  1316.4   7\n",
       "5    6   781.5  1442.4  15\n",
       "6    7   541.8  1641.0   9\n",
       "7    8   611.1  1768.8  10\n",
       "8    9  1222.1  1981.2  18\n",
       "9   10   793.2  1998.6  14\n",
       "10  11   660.8  2196.0  10\n",
       "11  12   792.7  2105.4  12\n",
       "12  13   580.8  2147.4   8\n",
       "13  14   612.7  2154.0  10\n",
       "14  15   890.8  2231.4  14\n",
       "15  16  1121.0  2611.8  18\n",
       "16  17  1094.2  3143.4  16\n",
       "17  18  1253.0  3624.6  20"
      ]
     },
     "execution_count": 18,
     "metadata": {},
     "output_type": "execute_result"
    }
   ],
   "source": [
    "import pandas as pd \n",
    "data = pd.read_csv('book.csv')\n",
    "data"
   ]
  },
  {
   "cell_type": "code",
   "execution_count": 1,
   "metadata": {
    "collapsed": true
   },
   "outputs": [],
   "source": [
    "# x = data[:]\n",
    "# y = data[:]\n",
    "# pl.plot(x,y,'e')\n",
    "# pl.show()"
   ]
  },
  {
   "cell_type": "code",
   "execution_count": null,
   "metadata": {
    "collapsed": true
   },
   "outputs": [],
   "source": []
  }
 ],
 "metadata": {
  "kernelspec": {
   "display_name": "Python 3",
   "language": "python",
   "name": "python3"
  },
  "language_info": {
   "codemirror_mode": {
    "name": "ipython",
    "version": 3
   },
   "file_extension": ".py",
   "mimetype": "text/x-python",
   "name": "python",
   "nbconvert_exporter": "python",
   "pygments_lexer": "ipython3",
   "version": "3.6.1"
  }
 },
 "nbformat": 4,
 "nbformat_minor": 2
}
