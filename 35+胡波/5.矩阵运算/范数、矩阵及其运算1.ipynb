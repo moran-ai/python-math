{
 "cells": [
  {
   "cell_type": "markdown",
   "metadata": {},
   "source": [
    "# 矩阵运算\n",
    "## 逆矩阵"
   ]
  },
  {
   "cell_type": "code",
   "execution_count": 4,
   "metadata": {},
   "outputs": [
    {
     "data": {
      "text/plain": [
       "matrix([[0.15, 0.33, 0.02]])"
      ]
     },
     "execution_count": 4,
     "metadata": {},
     "output_type": "execute_result"
    }
   ],
   "source": [
    "import numpy as np\n",
    "A = np.mat('4 6 8;4 6 9;5 6 8')\n",
    "C = np.array([2.74,2.76,2.89])\n",
    "NA = np.linalg.inv(A)   # 线性库  linalg\n",
    "np.matmul(NA,C)   # 乘   矩阵乘法不满足交换律，注意先后位置"
   ]
  },
  {
   "cell_type": "markdown",
   "metadata": {},
   "source": [
    "## 行列式"
   ]
  },
  {
   "cell_type": "code",
   "execution_count": 5,
   "metadata": {},
   "outputs": [
    {
     "data": {
      "text/plain": [
       "5.999999999999996"
      ]
     },
     "execution_count": 5,
     "metadata": {},
     "output_type": "execute_result"
    }
   ],
   "source": [
    "np.linalg.det(A)"
   ]
  },
  {
   "cell_type": "markdown",
   "metadata": {},
   "source": [
    "## 线性方程组功能"
   ]
  },
  {
   "cell_type": "code",
   "execution_count": 6,
   "metadata": {},
   "outputs": [
    {
     "data": {
      "text/plain": [
       "array([0.15, 0.33, 0.02])"
      ]
     },
     "execution_count": 6,
     "metadata": {},
     "output_type": "execute_result"
    }
   ],
   "source": [
    "np.linalg.solve(A,C)"
   ]
  },
  {
   "cell_type": "markdown",
   "metadata": {},
   "source": [
    "## 克拉默法则"
   ]
  },
  {
   "cell_type": "code",
   "execution_count": 7,
   "metadata": {},
   "outputs": [
    {
     "data": {
      "text/plain": [
       "0.11999999999999744"
      ]
     },
     "execution_count": 7,
     "metadata": {},
     "output_type": "execute_result"
    }
   ],
   "source": [
    "D  = np.mat('4.00 4.00 5.00;6.00 6.00 6.00;8.00 9.00 8.00')\n",
    "D1 = np.mat('2.74 2.76 2.89;6.00 6.00 6.00;8.00 9.00 8.00')\n",
    "D2 = np.mat('4.00 4.00 5.00;2.74 2.76 2.8;8.00 9.00 8.00')\n",
    "D3 = np.mat('4.00 4.00 5.00;6.00 6.00 6.00;2.74 2.76 2.89')\n",
    "x1 = np.linalg.det(D1)\n",
    "x2 = np.linalg.det(D2)\n",
    "x3 = np.linalg.det(D3)\n",
    "x1\n",
    "x2\n",
    "x3"
   ]
  },
  {
   "cell_type": "code",
   "execution_count": 16,
   "metadata": {},
   "outputs": [
    {
     "data": {
      "text/plain": [
       "[0.15000000000000005, 0.3300000000000004, 0.019999999999999574]"
      ]
     },
     "execution_count": 16,
     "metadata": {},
     "output_type": "execute_result"
    }
   ],
   "source": [
    "a = np.mat('4.00 6.00 8.00;4.00 6.00 9.00;5.00 6.00 8.00')\n",
    "b = np.array([2.74,2.76,2.89])\n",
    "k=[]\n",
    "for i in [0,1,2]:\n",
    "    aa = np.delete(a,i,axis=1) # 删除相应的列\n",
    "    aaa = np.insert(aa,i,b,axis=1) # 插入所需要的列\n",
    "    bbb = np.linalg.det(aaa)/np.linalg.det(a) # 求比值，即结果\n",
    "    k.append(bbb)\n",
    "k # 答案"
   ]
  },
  {
   "cell_type": "code",
   "execution_count": null,
   "metadata": {
    "collapsed": true
   },
   "outputs": [],
   "source": []
  }
 ],
 "metadata": {
  "kernelspec": {
   "display_name": "Python 3",
   "language": "python",
   "name": "python3"
  },
  "language_info": {
   "codemirror_mode": {
    "name": "ipython",
    "version": 3
   },
   "file_extension": ".py",
   "mimetype": "text/x-python",
   "name": "python",
   "nbconvert_exporter": "python",
   "pygments_lexer": "ipython3",
   "version": "3.6.1"
  }
 },
 "nbformat": 4,
 "nbformat_minor": 2
}
