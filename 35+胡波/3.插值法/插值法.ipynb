{
 "cells": [
  {
   "cell_type": "markdown",
   "metadata": {},
   "source": [
    "# 拉格朗日插值法\n",
    "利用scipy数值计算库中的interpolate插值模块来实现\n",
    "\n",
    "语法：interpolate.lagranage(x,y)\n"
   ]
  },
  {
   "cell_type": "code",
   "execution_count": 1,
   "metadata": {},
   "outputs": [
    {
     "name": "stdout",
     "output_type": "stream",
     "text": [
      "Using matplotlib backend: Qt5Agg\n"
     ]
    }
   ],
   "source": [
    "%matplotlib\n",
    "import numpy as np\n",
    "from scipy import interpolate\n",
    "import pylab as pl"
   ]
  },
  {
   "cell_type": "code",
   "execution_count": 6,
   "metadata": {},
   "outputs": [
    {
     "name": "stdout",
     "output_type": "stream",
     "text": [
      "           10            9             8            7            6\n",
      "1.736e-07 x  - 8.21e-06 x + 0.0001519 x - 0.001344 x + 0.005411 x\n",
      "             5           4          3           2\n",
      " - 0.008297 x + 0.03305 x - 0.2073 x + 0.02778 x + 0.992 x\n"
     ]
    },
    {
     "data": {
      "text/plain": [
       "[<matplotlib.lines.Line2D at 0x1953666b8d0>]"
      ]
     },
     "execution_count": 6,
     "metadata": {},
     "output_type": "execute_result"
    }
   ],
   "source": [
    "x = np.linspace(0,10,11) # 在零到十之内取十一个点\n",
    "y = np.sin(x) # 未知函数\n",
    "pl.plot(x,y,'ro') # 图像输出, 'ro'参数输出点\n",
    "\n",
    "f=interpolate.lagrange(x,y)  # f是插值函数\n",
    "print(f)\n",
    "xcha = np.linspace(0,10,21) # n=21\n",
    "ycha = f(xcha)\n",
    "pl.plot(xcha,ycha)"
   ]
  },
  {
   "cell_type": "markdown",
   "metadata": {},
   "source": [
    "# 样条插值\n",
    "利用scipy数值计算库中的interpolate插值模块来实现\n",
    "\n",
    "语法：interpolate.splrep(x,y,k=n) n为样条插值次数，输出为元相\n",
    "\n",
    "interpolate.splev(a,tck) a为参数，tck为插值参数"
   ]
  },
  {
   "cell_type": "code",
   "execution_count": 3,
   "metadata": {},
   "outputs": [
    {
     "name": "stdout",
     "output_type": "stream",
     "text": [
      "(array([200., 200., 200., 200., 250., 280., 280., 280., 280.]), array([4.        , 4.56869919, 4.82279133, 4.5999187 , 5.2       ,\n",
      "       0.        , 0.        , 0.        , 0.        ]), 3)\n",
      "4.692357723577237\n"
     ]
    }
   ],
   "source": [
    "import numpy as np\n",
    "from scipy import interpolate\n",
    "import pylab as pl\n",
    "\n",
    "x = [200,220,250,270,280]\n",
    "y = [4,4.5,4.7,4.8,5.2]\n",
    " \n",
    "a = interpolate.splrep(x,y,k=3)  # 样条插值\n",
    "print(a)\n",
    "b = interpolate.splev(240,a)\n",
    "print(b)"
   ]
  },
  {
   "cell_type": "markdown",
   "metadata": {},
   "source": [
    "# 其他插值法"
   ]
  },
  {
   "cell_type": "code",
   "execution_count": 6,
   "metadata": {
    "collapsed": true
   },
   "outputs": [],
   "source": [
    "import numpy as np\n",
    "from scipy import interpolate\n",
    "import pylab as pl\n",
    "\n",
    "x = np.linspace(0,10,11) # 在零到十之内取十一个点\n",
    "y = np.sin(x) # 未知函数\n",
    "pl.plot(x,y,'ro') # 图像输出, 'ro'参数输出点\n",
    "\n",
    "f = interpolate.interp1d(x,y,kind='cubic') # 选取了类型\n",
    "xcha = np.linspace(0,10,101)\n",
    "ycha = f(xcha)\n",
    "pl.plot(xcha,ycha,label='n=3')\n",
    "pl.legend(loc='lower right')\n",
    "pl.show()"
   ]
  },
  {
   "cell_type": "markdown",
   "metadata": {},
   "source": [
    "# 二维插值_（图像处理）\n",
    "语法:interpolate.interp2d(x,y,fvals,kind=kind)"
   ]
  },
  {
   "cell_type": "code",
   "execution_count": 5,
   "metadata": {},
   "outputs": [
    {
     "name": "stdout",
     "output_type": "stream",
     "text": [
      "Using matplotlib backend: Qt5Agg\n"
     ]
    }
   ],
   "source": [
    "%matplotlib\n",
    "import numpy as np\n",
    "from scipy import interpolate\n",
    "import pylab as pl\n",
    "\n",
    "def func(x,y):\n",
    "    return (x+y)*np.exp(-5.0*(x**2+y**2))\n",
    "y,x = np.mgrid[-1:1:15j,-1:1:15j]\n",
    "fval = func(x,y)\n",
    "\n",
    "chafunc = interpolate.interp2d(x,y,fval,kind='cubic')\n",
    "xcha = np.linspace(-1,1,100)\n",
    "ycha = np.linspace(-1,1,100) \n",
    "zcha = chafunc(xcha,ycha)\n",
    " \n",
    "pl.subplot(121)\n",
    "iml = pl.imshow(fval,extent=[-1,1,-1,1],cmap=pl.cm.hot,interpolation='nearest',origin='lower')\n",
    "pl.title('yuan')\n",
    "\n",
    "pl.subplot(122)\n",
    "iml = pl.imshow(zcha,extent=[-1,1,-1,1],cmap=pl.cm.hot,interpolation='nearest',origin='lower')\n",
    "pl.title('xin')\n",
    "pl.show()"
   ]
  },
  {
   "cell_type": "code",
   "execution_count": null,
   "metadata": {
    "collapsed": true
   },
   "outputs": [],
   "source": []
  }
 ],
 "metadata": {
  "kernelspec": {
   "display_name": "Python 3",
   "language": "python",
   "name": "python3"
  },
  "language_info": {
   "codemirror_mode": {
    "name": "ipython",
    "version": 3
   },
   "file_extension": ".py",
   "mimetype": "text/x-python",
   "name": "python",
   "nbconvert_exporter": "python",
   "pygments_lexer": "ipython3",
   "version": "3.6.1"
  }
 },
 "nbformat": 4,
 "nbformat_minor": 2
}
