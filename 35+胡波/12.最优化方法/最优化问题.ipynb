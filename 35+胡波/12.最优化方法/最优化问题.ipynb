{
 "cells": [
  {
   "cell_type": "code",
   "execution_count": 3,
   "metadata": {},
   "outputs": [
    {
     "data": {
      "text/plain": [
       "'\\n最优化方法：也称运筹须学方法\\n\\n'"
      ]
     },
     "execution_count": 3,
     "metadata": {},
     "output_type": "execute_result"
    }
   ],
   "source": [
    "\"\"\"\n",
    "\n",
    "最优化方法：也称运筹须学方法\n",
    "\n",
    "确定变量\n",
    "设立目标函数\n",
    "设置约束条件\n",
    "\n",
    "\"\"\"\n",
    "\n",
    "# import tensorflow as tf"
   ]
  },
  {
   "cell_type": "code",
   "execution_count": null,
   "metadata": {
    "collapsed": true
   },
   "outputs": [],
   "source": [
    "from scipy import optimize  \n",
    "import sympy\n",
    "x0,x1,x2,x3 = sympy.symbols('x0 x1 x2 x3')\n",
    "fn = x0**3*x1**2*x2\n",
    "Fn = fn+x3*(x0+x1+x2-12)\n",
    "r1 = sympy.diff(Fn,xo)\n",
    "r2 = sympy.diff(Fn,x1)\n",
    "r3 = sympy.diff(Fn,x2)\n",
    "r4 = sympy.diff(Fn,x3)\n",
    "print(r1)\n",
    "print(r2)\n",
    "print(r3)\n",
    "print(r4)"
   ]
  },
  {
   "cell_type": "code",
   "execution_count": 6,
   "metadata": {
    "collapsed": true
   },
   "outputs": [],
   "source": [
    "\"\"\"拉格朗日乘子法的求解步骤：\n",
    "\n",
    "1.构造拉格朗日函数\n",
    "2.解变量的线性方程\n",
    "3.代入目标函数\n",
    "\n",
    "\"\"\"\n",
    "      "
   ]
  }
 ],
 "metadata": {
  "kernelspec": {
   "display_name": "Python 3",
   "language": "python",
   "name": "python3"
  },
  "language_info": {
   "codemirror_mode": {
    "name": "ipython",
    "version": 3
   },
   "file_extension": ".py",
   "mimetype": "text/x-python",
   "name": "python",
   "nbconvert_exporter": "python",
   "pygments_lexer": "ipython3",
   "version": "3.6.1"
  }
 },
 "nbformat": 4,
 "nbformat_minor": 2
}
