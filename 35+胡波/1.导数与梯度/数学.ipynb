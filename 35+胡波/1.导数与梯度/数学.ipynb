{
 "cells": [
  {
   "cell_type": "code",
   "execution_count": 1,
   "metadata": {},
   "outputs": [
    {
     "data": {
      "text/latex": [
       "$\\displaystyle 2 x^{2} \\cos{\\left(2 y \\right)} + 2 x \\sin{\\left(2 y \\right)}$"
      ],
      "text/plain": [
       "2*x**2*cos(2*y) + 2*x*sin(2*y)"
      ]
     },
     "execution_count": 1,
     "metadata": {},
     "output_type": "execute_result"
    }
   ],
   "source": [
    "# 第一题\n",
    "from sympy import *\n",
    "x,y = symbols('x,y')\n",
    "fn = x**2*sin(2*y)\n",
    "fx = diff(fn,x)\n",
    "fy = diff(fn,y)\n",
    "z = fx+fy\n",
    "z"
   ]
  },
  {
   "cell_type": "code",
   "execution_count": 2,
   "metadata": {},
   "outputs": [
    {
     "data": {
      "text/latex": [
       "$\\displaystyle 2 x^{y}$"
      ],
      "text/plain": [
       "2*x**y"
      ]
     },
     "execution_count": 2,
     "metadata": {},
     "output_type": "execute_result"
    }
   ],
   "source": [
    "# 第二题\n",
    "from sympy import *\n",
    "from math import e\n",
    "x,y = symbols('x,y')\n",
    "fn = x**y\n",
    "fx = diff(fn,x)\n",
    "fy = diff(fn,y)\n",
    "f = x/y*fx+(1/ln(x))*fy \n",
    "f"
   ]
  },
  {
   "cell_type": "code",
   "execution_count": 3,
   "metadata": {},
   "outputs": [
    {
     "data": {
      "text/latex": [
       "$\\displaystyle \\frac{x}{2} + y + \\frac{z}{2} + \\frac{\\sqrt{2} \\left(x + z\\right)}{2}$"
      ],
      "text/plain": [
       "x/2 + y + z/2 + sqrt(2)*(x + z)/2"
      ]
     },
     "execution_count": 3,
     "metadata": {},
     "output_type": "execute_result"
    }
   ],
   "source": [
    "# 第三题\n",
    "from sympy import *\n",
    "x,y,z = symbols('x,y,z')\n",
    "fn = x*y+y*z+z*x\n",
    "fx = diff(fn,x)\n",
    "fy = diff(fn,y)\n",
    "fz = diff(fn,z)\n",
    "fp = fx*cos(pi/3)+fy*cos(pi/4)+fz*cos(pi/3)\n",
    "fp"
   ]
  },
  {
   "cell_type": "code",
   "execution_count": 4,
   "metadata": {
    "collapsed": true
   },
   "outputs": [],
   "source": [
    "# 第四题\n",
    "from sympy.vector import *"
   ]
  },
  {
   "cell_type": "code",
   "execution_count": 5,
   "metadata": {},
   "outputs": [
    {
     "data": {
      "text/latex": [
       "$\\displaystyle (- \\frac{2 \\mathbf{{x}_{C}}}{\\left(\\mathbf{{x}_{C}}^{2} + \\mathbf{{y}_{C}}^{2}\\right)^{2}})\\mathbf{\\hat{i}_{C}} + (- \\frac{2 \\mathbf{{y}_{C}}}{\\left(\\mathbf{{x}_{C}}^{2} + \\mathbf{{y}_{C}}^{2}\\right)^{2}})\\mathbf{\\hat{j}_{C}}$"
      ],
      "text/plain": [
       "(-2*C.x/(C.x**2 + C.y**2)**2)*C.i + (-2*C.y/(C.x**2 + C.y**2)**2)*C.j"
      ]
     },
     "execution_count": 5,
     "metadata": {},
     "output_type": "execute_result"
    }
   ],
   "source": [
    "C = CoordSys3D(\"C\")\n",
    "f = 1/(C.x**2+C.y**2)\n",
    "gradient(f)"
   ]
  },
  {
   "cell_type": "code",
   "execution_count": 6,
   "metadata": {
    "collapsed": true
   },
   "outputs": [],
   "source": [
    "# 拉格朗日插值\n",
    "import numpy as np\n",
    "from scipy import interpolate\n",
    "import pylab as pl\n",
    "\n",
    "def h(x,y,a):\n",
    "    ans=0.0\n",
    "    for i in range(len(y)):\n",
    "        t=y[i]\n",
    "        for j in range(len(y)):\n",
    "            if i !=j:\n",
    "                t*=(a-x[j])/(x[i]-x[j])\n",
    "        ans +=t\n",
    "    return ans\n",
    "# x=[1,0]\n",
    "# y=[0,2]\n",
    "# print(h(x,y,2))"
   ]
  },
  {
   "cell_type": "code",
   "execution_count": 7,
   "metadata": {},
   "outputs": [
    {
     "name": "stdout",
     "output_type": "stream",
     "text": [
      "4.692357723577237\n"
     ]
    }
   ],
   "source": [
    "import numpy as np\n",
    "from scipy import interpolate\n",
    "import pylab as pl\n",
    "\n",
    "x = [200,220,250,270,280]\n",
    "y = [4,4.5,4.7,4.8,5.2]\n",
    " \n",
    "a = interpolate.splrep(x,y,k=3)  # 样条插值\n",
    "# print(a)\n",
    "b = interpolate.splev(240,a)\n",
    "print(b)"
   ]
  },
  {
   "cell_type": "code",
   "execution_count": 8,
   "metadata": {},
   "outputs": [
    {
     "data": {
      "text/plain": [
       "array(4.63333333)"
      ]
     },
     "execution_count": 8,
     "metadata": {},
     "output_type": "execute_result"
    }
   ],
   "source": [
    "import numpy as np\n",
    "from scipy import interpolate\n",
    "import pylab as pl\n",
    "\n",
    "x = [200,220,250,270,280]\n",
    "y = [4,4.5,4.7,4.8,5.2]\n",
    "\n",
    "a = interpolate.interp1d(x,y,kind='linear')\n",
    "a(240)"
   ]
  },
  {
   "cell_type": "code",
   "execution_count": null,
   "metadata": {
    "collapsed": true
   },
   "outputs": [],
   "source": []
  }
 ],
 "metadata": {
  "kernelspec": {
   "display_name": "Python 3",
   "language": "python",
   "name": "python3"
  },
  "language_info": {
   "codemirror_mode": {
    "name": "ipython",
    "version": 3
   },
   "file_extension": ".py",
   "mimetype": "text/x-python",
   "name": "python",
   "nbconvert_exporter": "python",
   "pygments_lexer": "ipython3",
   "version": "3.6.1"
  }
 },
 "nbformat": 4,
 "nbformat_minor": 2
}
